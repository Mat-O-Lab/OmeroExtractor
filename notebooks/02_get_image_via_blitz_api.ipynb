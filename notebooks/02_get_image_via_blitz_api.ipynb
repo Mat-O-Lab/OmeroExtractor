{
 "cells": [
  {
   "cell_type": "markdown",
   "id": "6f45cdf6-a1a6-4caf-bead-5bb51646de1f",
   "metadata": {},
   "source": [
    "## Get image/data from OMERO via Blitz Gateway\n",
    "- Documentation https://docs.openmicroscopy.org/omero/5.6.0/developers/PythonBlitzGateway.html"
   ]
  },
  {
   "cell_type": "code",
   "execution_count": null,
   "id": "8e1d53af-5f7b-4cd0-ba04-c970a99e50b5",
   "metadata": {},
   "outputs": [],
   "source": [
    "import os\n",
    "import json\n",
    "import omero.clients\n",
    "from omero.gateway import BlitzGateway"
   ]
  },
  {
   "cell_type": "code",
   "execution_count": null,
   "id": "78f578ca-b3dd-457b-911d-e8d535e0dfd0",
   "metadata": {},
   "outputs": [],
   "source": [
    "thisdir = os.path.abspath('')\n",
    "interim_data = os.path.join(thisdir, '..\\\\data\\\\interim')"
   ]
  },
  {
   "cell_type": "markdown",
   "id": "7689cfe0-3b0d-412d-a3fd-64c51bb0f7f4",
   "metadata": {},
   "source": [
    "#### Create a connection"
   ]
  },
  {
   "cell_type": "code",
   "execution_count": null,
   "id": "9e0ef6b1-8058-4c51-8115-8df3bbe975bc",
   "metadata": {},
   "outputs": [],
   "source": [
    "server = \"\"\n",
    "username = \"\"\n",
    "password = \"\""
   ]
  },
  {
   "cell_type": "code",
   "execution_count": null,
   "id": "7e0f3953-3543-4cc0-9bf9-c03619c075da",
   "metadata": {},
   "outputs": [],
   "source": [
    "conn = BlitzGateway(username, password, host=server, port=4064)\n",
    "conn.connect()"
   ]
  },
  {
   "cell_type": "code",
   "execution_count": null,
   "id": "549803c7-ed37-40f9-a91f-a5bc538231bc",
   "metadata": {},
   "outputs": [],
   "source": [
    "user = conn.getUser()\n",
    "print(\"Current user:\")\n",
    "print(\"   ID:\", user.getId())\n",
    "print(\"   Username:\", user.getName())\n",
    "print(\"   Full Name:\", user.getFullName())"
   ]
  },
  {
   "cell_type": "markdown",
   "id": "669bd4d3-9b81-4459-8e7b-553b0c18554b",
   "metadata": {},
   "source": [
    "#### Helper Function"
   ]
  },
  {
   "cell_type": "code",
   "execution_count": null,
   "id": "aecd5a91-f15e-45ca-9483-b41b107aef24",
   "metadata": {},
   "outputs": [],
   "source": [
    "def print_obj(obj, indent=0):\n",
    "    \"\"\"\n",
    "    Helper method to display info about OMERO objects.\n",
    "    Not all objects will have a \"name\" or owner field.\n",
    "    \"\"\"\n",
    "    print(\"\"\"%s%s:%s  Name:\"%s\" (owner=%s)\"\"\" % (\n",
    "        \" \" * indent,\n",
    "        obj.OMERO_CLASS,\n",
    "        obj.getId(),\n",
    "        obj.getName(),\n",
    "        obj.getOwnerOmeName()))"
   ]
  },
  {
   "cell_type": "code",
   "execution_count": null,
   "id": "842eaefb-34b4-434d-8a13-5598946791b9",
   "metadata": {},
   "outputs": [],
   "source": [
    "my_exp_id = conn.getUser().getId()\n",
    "default_group_id = conn.getEventContext().groupId"
   ]
  },
  {
   "cell_type": "markdown",
   "id": "1a94a501-98ea-4386-a440-8d8962f82fb8",
   "metadata": {},
   "source": [
    "#### Get all image IDs"
   ]
  },
  {
   "cell_type": "code",
   "execution_count": null,
   "id": "603d42ac-b03e-4a67-928c-f63463cc0dd1",
   "metadata": {},
   "outputs": [],
   "source": [
    "img_ids = []\n",
    "for image in conn.getObjects(\"Image\", opts={'owner': my_exp_id}):\n",
    "    img_ids.append(image.getId())\n",
    "img_ids"
   ]
  },
  {
   "cell_type": "markdown",
   "id": "e9157c74-984c-41a5-b768-64527a0f9f5b",
   "metadata": {},
   "source": [
    "#### Save all original metadata to json file"
   ]
  },
  {
   "cell_type": "code",
   "execution_count": null,
   "id": "6b9a51e6-725a-4c61-9640-e53aece1b269",
   "metadata": {
    "tags": []
   },
   "outputs": [],
   "source": [
    "for i in img_ids:\n",
    "    img = conn.getObject(\"Image\", i)\n",
    "    meta = img.loadOriginalMetadata()\n",
    "    f = open(os.path.join(interim_data, \"meta_data_\"+ img.getName() + \".json\"), \"w\")\n",
    "    f.write(json.dumps(meta) )\n",
    "    f.close()"
   ]
  },
  {
   "cell_type": "code",
   "execution_count": null,
   "id": "56345ad6-17f1-47e3-bb89-d2c105e4810b",
   "metadata": {},
   "outputs": [],
   "source": []
  },
  {
   "cell_type": "markdown",
   "id": "0249af56-4ed5-4901-a101-0245ed1c2a65",
   "metadata": {},
   "source": [
    "#### Retrieve an image by Image ID"
   ]
  },
  {
   "cell_type": "code",
   "execution_count": null,
   "id": "abfee0ed-9774-4d6d-8459-6f42ddc52a49",
   "metadata": {},
   "outputs": [],
   "source": [
    "image = conn.getObject(\"Image\", 7)\n",
    "print(image.getName(), image.getDescription())"
   ]
  },
  {
   "cell_type": "markdown",
   "id": "23cf6e6d-c338-43fe-a1b6-64823227d86e",
   "metadata": {},
   "source": [
    "- Retrieve information about an image."
   ]
  },
  {
   "cell_type": "code",
   "execution_count": null,
   "id": "067bf3d7-094d-4176-92e2-b57daa6c964e",
   "metadata": {},
   "outputs": [],
   "source": [
    "print(\" X:\", image.getSizeX())\n",
    "print(\" Y:\", image.getSizeY())\n",
    "print(\" Z:\", image.getSizeZ())\n",
    "print(\" C:\", image.getSizeC())\n",
    "print(\" T:\", image.getSizeT())"
   ]
  },
  {
   "cell_type": "markdown",
   "id": "359a0caf-3c9b-4421-b16c-59f18825640b",
   "metadata": {},
   "source": [
    "- List Channels (loads the Rendering settings to get channel colors)"
   ]
  },
  {
   "cell_type": "code",
   "execution_count": null,
   "id": "d374d8c4-c274-4faa-99e8-3949ce262106",
   "metadata": {},
   "outputs": [],
   "source": [
    "for channel in image.getChannels():\n",
    "    print('Channel:', channel.getLabel())\n",
    "    print('Color:', channel.getColor().getRGB())\n",
    "    print('Lookup table:', channel.getLut())\n",
    "    print('Is reverse intensity?', channel.isReverseIntensity())"
   ]
  },
  {
   "cell_type": "markdown",
   "id": "ca054c1d-bba9-4c38-8880-faad8432e7ac",
   "metadata": {},
   "source": [
    "- render the first timepoint, mid Z section"
   ]
  },
  {
   "cell_type": "code",
   "execution_count": null,
   "id": "22ca7a57-301b-4846-bec8-62d86379ca0f",
   "metadata": {},
   "outputs": [],
   "source": [
    "z = image.getSizeZ() / 2\n",
    "t = 0\n",
    "rendered_image = image.renderImage(z, t)"
   ]
  },
  {
   "cell_type": "code",
   "execution_count": null,
   "id": "5b947fac-ee29-4133-bde4-4c7a3c7089f6",
   "metadata": {},
   "outputs": [],
   "source": [
    "rendered_image"
   ]
  },
  {
   "cell_type": "markdown",
   "id": "a4a9a877-435c-470d-825b-ceb0aa4fff67",
   "metadata": {},
   "source": [
    "- save image"
   ]
  },
  {
   "cell_type": "code",
   "execution_count": null,
   "id": "ab83850f-3587-4b87-8dae-ca40f06ef26e",
   "metadata": {},
   "outputs": [],
   "source": [
    "rendered_image.save(\"foo.jpg\")"
   ]
  },
  {
   "cell_type": "code",
   "execution_count": null,
   "id": "5d7b0547-20ee-4bf9-98b5-625108049e87",
   "metadata": {},
   "outputs": [],
   "source": [
    "exported_image = image.exportOmeTiff()"
   ]
  },
  {
   "cell_type": "code",
   "execution_count": null,
   "id": "fe092a0d-c00d-40a1-8c36-6f5905cad1d2",
   "metadata": {},
   "outputs": [],
   "source": []
  },
  {
   "cell_type": "code",
   "execution_count": null,
   "id": "bc0df793-2937-4fe9-8a4b-a46a85b17025",
   "metadata": {},
   "outputs": [],
   "source": []
  },
  {
   "cell_type": "markdown",
   "id": "181c4ad3-2f68-48aa-9d96-5ca2aaed9b9b",
   "metadata": {},
   "source": [
    "#### close connection"
   ]
  },
  {
   "cell_type": "code",
   "execution_count": null,
   "id": "458afbde-f0ae-464b-b6c6-f41008678471",
   "metadata": {},
   "outputs": [],
   "source": [
    "conn.close()"
   ]
  },
  {
   "cell_type": "code",
   "execution_count": null,
   "id": "ac93b3f7-9f5a-4b6a-aa12-2daa8b43b092",
   "metadata": {},
   "outputs": [],
   "source": []
  },
  {
   "cell_type": "code",
   "execution_count": null,
   "id": "2e5c5235-96ec-4c15-8424-acd5c2e359e0",
   "metadata": {},
   "outputs": [],
   "source": []
  },
  {
   "cell_type": "code",
   "execution_count": null,
   "id": "4f853df4-9faf-4f37-b0b3-591497293724",
   "metadata": {},
   "outputs": [],
   "source": []
  }
 ],
 "metadata": {
  "kernelspec": {
   "display_name": "Python [conda env:py38ontotrans]",
   "language": "python",
   "name": "conda-env-py38ontotrans-py"
  },
  "language_info": {
   "codemirror_mode": {
    "name": "ipython",
    "version": 3
   },
   "file_extension": ".py",
   "mimetype": "text/x-python",
   "name": "python",
   "nbconvert_exporter": "python",
   "pygments_lexer": "ipython3",
   "version": "3.8.12"
  }
 },
 "nbformat": 4,
 "nbformat_minor": 5
}
