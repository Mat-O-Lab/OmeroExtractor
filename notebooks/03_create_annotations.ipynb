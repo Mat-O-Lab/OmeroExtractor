{
 "cells": [
  {
   "cell_type": "markdown",
   "id": "6f45cdf6-a1a6-4caf-bead-5bb51646de1f",
   "metadata": {},
   "source": [
    "## Create annotations"
   ]
  },
  {
   "cell_type": "code",
   "execution_count": null,
   "id": "8e1d53af-5f7b-4cd0-ba04-c970a99e50b5",
   "metadata": {},
   "outputs": [],
   "source": [
    "import os\n",
    "import json\n",
    "import omero.clients\n",
    "from omero.gateway import BlitzGateway"
   ]
  },
  {
   "cell_type": "code",
   "execution_count": null,
   "id": "78f578ca-b3dd-457b-911d-e8d535e0dfd0",
   "metadata": {},
   "outputs": [],
   "source": [
    "thisdir = os.path.abspath('')\n",
    "interim_data = os.path.join(thisdir, '..\\\\data\\\\interim')\n",
    "download_data = os.path.join(thisdir, 'download')"
   ]
  },
  {
   "cell_type": "markdown",
   "id": "7689cfe0-3b0d-412d-a3fd-64c51bb0f7f4",
   "metadata": {},
   "source": [
    "#### Create a connection"
   ]
  },
  {
   "cell_type": "code",
   "execution_count": null,
   "id": "9e0ef6b1-8058-4c51-8115-8df3bbe975bc",
   "metadata": {},
   "outputs": [],
   "source": [
    "server = \"  \"\n",
    "username = \" \"\n",
    "password = \" \""
   ]
  },
  {
   "cell_type": "code",
   "execution_count": null,
   "id": "7e0f3953-3543-4cc0-9bf9-c03619c075da",
   "metadata": {},
   "outputs": [],
   "source": [
    "conn = BlitzGateway(username, password, host=server, port=4064)\n",
    "conn.connect()"
   ]
  },
  {
   "cell_type": "code",
   "execution_count": null,
   "id": "549803c7-ed37-40f9-a91f-a5bc538231bc",
   "metadata": {},
   "outputs": [],
   "source": [
    "user = conn.getUser()\n",
    "print(\"Current user:\")\n",
    "print(\"   ID:\", user.getId())\n",
    "print(\"   Username:\", user.getName())\n",
    "print(\"   Full Name:\", user.getFullName())"
   ]
  },
  {
   "cell_type": "code",
   "execution_count": null,
   "id": "842eaefb-34b4-434d-8a13-5598946791b9",
   "metadata": {},
   "outputs": [],
   "source": [
    "my_exp_id = conn.getUser().getId()\n",
    "default_group_id = conn.getEventContext().groupId"
   ]
  },
  {
   "cell_type": "code",
   "execution_count": null,
   "id": "365db3da-7874-480e-95b0-1c943884af71",
   "metadata": {},
   "outputs": [],
   "source": [
    "def print_obj(obj, indent=0):\n",
    "    \"\"\"\n",
    "    Helper method to display info about OMERO objects.\n",
    "    Not all objects will have a \"name\" or owner field.\n",
    "    \"\"\"\n",
    "    print(\"\"\"%s%s:%s  Name:\"%s\" (owner=%s)\"\"\" % (\n",
    "        \" \" * indent,\n",
    "        obj.OMERO_CLASS,\n",
    "        obj.getId(),\n",
    "        obj.getName(),\n",
    "        obj.getOwnerOmeName()))"
   ]
  },
  {
   "cell_type": "code",
   "execution_count": null,
   "id": "81695411-a10b-49c7-8569-e022527d11b9",
   "metadata": {},
   "outputs": [],
   "source": [
    "for project in conn.getObjects(\"Project\", opts={'owner': my_exp_id,\n",
    "                                            'group': default_group_id,\n",
    "                                            'order_by': 'lower(obj.name)',\n",
    "                                            'limit': 100, 'offset': 0}):\n",
    "    print_obj(project)\n",
    "    # We can get Datasets with listChildren, since we have the Project already.\n",
    "    # Or conn.getObjects(\"Dataset\", opts={'project', id}) if we have Project ID\n",
    "    for dataset in project.listChildren():\n",
    "        print_obj(dataset, 2)\n",
    "        for image in dataset.listChildren():\n",
    "            print_obj(image, 4)"
   ]
  },
  {
   "cell_type": "code",
   "execution_count": null,
   "id": "b684537b-4e82-4059-8269-0be7ce9216d0",
   "metadata": {},
   "outputs": [],
   "source": []
  },
  {
   "cell_type": "markdown",
   "id": "9e15657d-4909-48f8-83b5-6f42ab7c8455",
   "metadata": {},
   "source": [
    "- Create a new Dataset"
   ]
  },
  {
   "cell_type": "code",
   "execution_count": null,
   "id": "bc0df793-2937-4fe9-8a4b-a46a85b17025",
   "metadata": {},
   "outputs": [],
   "source": [
    "new_dataset = omero.gateway.DatasetWrapper(conn, omero.model.DatasetI())\n",
    "new_dataset.setName('Test_DataSet')\n",
    "new_dataset.save()\n",
    "print(\"New dataset, Id:\", new_dataset.id)\n",
    "# Can get the underlying omero.model.DatasetI with:\n",
    "dataset_obj = new_dataset._obj"
   ]
  },
  {
   "cell_type": "markdown",
   "id": "33d4e642-23b2-4f3e-9c94-88b1311442c5",
   "metadata": {},
   "source": [
    "- set object ID"
   ]
  },
  {
   "cell_type": "code",
   "execution_count": null,
   "id": "5243e0b2-ce44-4e83-893b-d5a76338fc2f",
   "metadata": {},
   "outputs": [],
   "source": [
    "project_Id = 1\n",
    "image_Id = 29"
   ]
  },
  {
   "cell_type": "markdown",
   "id": "29ad4d55-dd43-4141-a4b2-be4c35ff4a50",
   "metadata": {},
   "source": [
    "- Link to project"
   ]
  },
  {
   "cell_type": "code",
   "execution_count": null,
   "id": "9c22d3dd-61bf-4d18-955c-376ffae0d3f3",
   "metadata": {},
   "outputs": [],
   "source": [
    "link = omero.model.ProjectDatasetLinkI()\n",
    "# We can use a 'loaded' object, but we might get an Exception\n",
    "# link.setChild(dataset_obj)\n",
    "# Better to use an 'unloaded' object (loaded = False)\n",
    "link.setChild(omero.model.DatasetI(dataset_obj.id.val, False))\n",
    "link.setParent(omero.model.ProjectI(project_Id, False))\n",
    "conn.getUpdateService().saveObject(link)"
   ]
  },
  {
   "cell_type": "markdown",
   "id": "073d42e4-38d1-4c61-b531-833999dfe31f",
   "metadata": {},
   "source": [
    "- Annotate Image with a new Tag"
   ]
  },
  {
   "cell_type": "code",
   "execution_count": null,
   "id": "78ac4ec8-e5dd-4a93-a43d-0d3e287be878",
   "metadata": {},
   "outputs": [],
   "source": [
    "tag_ann = omero.gateway.TagAnnotationWrapper(conn)\n",
    "tag_ann.setValue(\"Test_Tag\")\n",
    "tag_ann.setDescription(\"Add optional description\")\n",
    "tag_ann.save()\n",
    "project = conn.getObject(\"Image\", image_Id)\n",
    "project.linkAnnotation(tag_ann)"
   ]
  },
  {
   "cell_type": "markdown",
   "id": "6674b910-049f-4fd1-a885-b8a034648ef5",
   "metadata": {},
   "source": [
    "- Add a Map Annotation (list of key: value pairs)"
   ]
  },
  {
   "cell_type": "code",
   "execution_count": null,
   "id": "e83e53e7-396a-4568-b57c-844180d370b6",
   "metadata": {},
   "outputs": [],
   "source": [
    "key_value_data = [[\"key_1\", \"value_1\"], [\"key_2\", \"value_2\"]]\n",
    "map_ann = omero.gateway.MapAnnotationWrapper(conn)\n",
    "# Use 'client' namespace to allow editing in Insight & web\n",
    "namespace = omero.constants.metadata.NSCLIENTMAPANNOTATION\n",
    "map_ann.setNs(namespace)\n",
    "map_ann.setValue(key_value_data)\n",
    "map_ann.save()\n",
    "project = conn.getObject(\"Image\", image_Id)\n",
    "# NB: only link a client map annotation to a single object\n",
    "project.linkAnnotation(map_ann)"
   ]
  },
  {
   "cell_type": "markdown",
   "id": "806c3c3b-2f70-427b-bc21-307f0c032bc9",
   "metadata": {},
   "source": [
    "- How to create a file annotation and link to ...\n"
   ]
  },
  {
   "cell_type": "code",
   "execution_count": null,
   "id": "c2dce7e0-c085-4859-b257-9925dca5a3bc",
   "metadata": {},
   "outputs": [],
   "source": [
    "# CSV file\n",
    "#\n",
    "image = conn.getObject(\"Image\", image_Id)\n",
    "# Specify a local file e.g. could be result of some analysis\n",
    "file_to_upload = \"analysis.csv\"   # This file should already exist\n",
    "# create file annotation (uploads the file etc.)\n",
    "namespace = \"my.namespace\"\n",
    "print(\"\\nCreating an FileAnnotation\")\n",
    "file_ann = conn.createFileAnnfromLocalFile(\n",
    "    file_to_upload, mimetype=\"text/csv\", ns=namespace, desc=None)\n",
    "print(\"Attaching FileAnnotation to Dataset: \", \"File ID:\", file_ann.getId(), \\\n",
    "    \",\", file_ann.getFile().getName(), \"Size:\", file_ann.getFile().getSize())\n",
    "image.linkAnnotation(file_ann)     # link it to dataset."
   ]
  },
  {
   "cell_type": "code",
   "execution_count": null,
   "id": "1c1d8119-eabb-4c6d-a6f6-5884c3b408de",
   "metadata": {},
   "outputs": [],
   "source": [
    "# image\n",
    "#\n",
    "image = conn.getObject(\"Image\", image_Id)\n",
    "# Specify a local file e.g. could be result of some analysis\n",
    "file_to_upload = \"foo.png\"   # This file should already exist\n",
    "# create file annotation (uploads the file etc.)\n",
    "namespace = \"my.namespace\"\n",
    "print(\"\\nCreating an FileAnnotation\")\n",
    "file_ann = conn.createFileAnnfromLocalFile(\n",
    "    file_to_upload, mimetype=\"image/png\", ns=namespace, desc=None)\n",
    "print(\"Attaching FileAnnotation to Dataset: \", \"File ID:\", file_ann.getId(), \\\n",
    "    \",\", file_ann.getFile().getName(), \"Size:\", file_ann.getFile().getSize())\n",
    "image.linkAnnotation(file_ann)     # link it to dataset."
   ]
  },
  {
   "cell_type": "markdown",
   "id": "595eefa6-0271-4cd7-ba7f-3031e112891d",
   "metadata": {},
   "source": [
    "- Download a file annotation linked to a Dataset"
   ]
  },
  {
   "cell_type": "code",
   "execution_count": null,
   "id": "4e34aa99-7a45-4c49-b2e8-8317d36d7b5a",
   "metadata": {},
   "outputs": [],
   "source": [
    "# Go through all the annotations on the Dataset. Download any file annotations\n",
    "# we find. Filter by namespace is optional\n",
    "print(\"\\nAnnotations on Dataset:\", image.getName())\n",
    "namespace = \"my.namespace\"\n",
    "for ann in image.listAnnotations(ns=namespace):\n",
    "    if isinstance(ann, omero.gateway.FileAnnotationWrapper):\n",
    "        print(\"File ID:\", ann.getFile().getId(), ann.getFile().getName(), \\\n",
    "            \"Size:\", ann.getFile().getSize())\n",
    "        file_path = os.path.join(download_data, ann.getFile().getName())\n",
    "\n",
    "        with open(str(file_path), 'wb') as f:\n",
    "            print(\"\\nDownloading file to\", file_path, \"...\")\n",
    "            for chunk in ann.getFileInChunks():\n",
    "                f.write(chunk)\n",
    "        print(\"File downloaded!\")"
   ]
  },
  {
   "cell_type": "markdown",
   "id": "6c68e8aa-0bf1-431e-8d42-9587d291bfbb",
   "metadata": {},
   "source": [
    "#### OMERO tables"
   ]
  },
  {
   "cell_type": "markdown",
   "id": "61989a3c-cb80-4167-b032-e56ebd512682",
   "metadata": {},
   "source": [
    "- set up the table --> 3 columns"
   ]
  },
  {
   "cell_type": "code",
   "execution_count": null,
   "id": "e64cbfd7-dbde-47ce-86a2-549fe348d71b",
   "metadata": {},
   "outputs": [],
   "source": [
    "from random import random, sample\n",
    "table_name = \"TablesDemo:%s\" % str(random())\n",
    "col1 = omero.grid.LongColumn('col1', '', [])\n",
    "col2 = omero.grid.LongColumn('col2', '', [])\n",
    "col3 = omero.grid.LongColumn('col3', '', [])\n",
    "columns = [col1, col2, col3]"
   ]
  },
  {
   "cell_type": "code",
   "execution_count": null,
   "id": "d96a6e30-2f34-4b39-94d9-f92d4d0e7f83",
   "metadata": {},
   "outputs": [],
   "source": [
    "resources = conn.c.sf.sharedResources()\n",
    "repository_id = resources.repositories().descriptions[0].getId().getValue()\n",
    "table = resources.newTable(repository_id, table_name)\n",
    "table.initialize(columns)"
   ]
  },
  {
   "cell_type": "markdown",
   "id": "abb03217-c67a-4661-99ae-b661c64bc201",
   "metadata": {
    "tags": []
   },
   "source": [
    "- produce some random data --> 1000 entries"
   ]
  },
  {
   "cell_type": "code",
   "execution_count": null,
   "id": "fa70a57b-e8cb-4c8f-acef-1517c2069346",
   "metadata": {
    "tags": []
   },
   "outputs": [],
   "source": [
    "ids = list(range(0, 1000, 1))\n",
    "dat1 = sample(range(1, 5000), 1000)\n",
    "dat2 = sample(range(1, 5000), 1000)"
   ]
  },
  {
   "cell_type": "markdown",
   "id": "e51153fa-c93e-4e21-b29b-b47789c8f85c",
   "metadata": {},
   "source": [
    "- fill table"
   ]
  },
  {
   "cell_type": "code",
   "execution_count": null,
   "id": "cfa9ffa7-19c9-41b6-bfd8-573c245b4ffe",
   "metadata": {},
   "outputs": [],
   "source": [
    "data1 = omero.grid.LongColumn('col1', '', ids)\n",
    "data2 = omero.grid.LongColumn('col2', '', dat1)\n",
    "data3 = omero.grid.LongColumn('col3', '', dat2)\n",
    "data = [data1, data2, data3]\n",
    "table.addData(data)\n",
    "orig_file = table.getOriginalFile()\n",
    "table.close()           # when we are done, close"
   ]
  },
  {
   "cell_type": "markdown",
   "id": "fe40354b-29a6-4930-aa5d-e3d66a3a83d1",
   "metadata": {},
   "source": [
    "- link table to data set"
   ]
  },
  {
   "cell_type": "code",
   "execution_count": null,
   "id": "9210d86d-239a-4142-ab69-919d3c2a16a8",
   "metadata": {
    "tags": []
   },
   "outputs": [],
   "source": [
    "dataset_Id = 8\n",
    "orig_file_id = orig_file.id.val\n",
    "# ...so you can attach this data to an object e.g. Dataset\n",
    "file_ann = omero.model.FileAnnotationI()\n",
    "# use unloaded OriginalFileI\n",
    "file_ann.setFile(omero.model.OriginalFileI(orig_file_id, False))\n",
    "file_ann = conn.getUpdateService().saveAndReturnObject(file_ann)\n",
    "link = omero.model.DatasetAnnotationLinkI()\n",
    "link.setParent(omero.model.DatasetI(dataset_Id, False))\n",
    "link.setChild(omero.model.FileAnnotationI(file_ann.getId().getValue(), False))\n",
    "conn.getUpdateService().saveAndReturnObject(link)"
   ]
  },
  {
   "cell_type": "markdown",
   "id": "181c4ad3-2f68-48aa-9d96-5ca2aaed9b9b",
   "metadata": {},
   "source": [
    "#### close connection"
   ]
  },
  {
   "cell_type": "code",
   "execution_count": null,
   "id": "458afbde-f0ae-464b-b6c6-f41008678471",
   "metadata": {},
   "outputs": [],
   "source": [
    "conn.close()"
   ]
  },
  {
   "cell_type": "code",
   "execution_count": null,
   "id": "ac93b3f7-9f5a-4b6a-aa12-2daa8b43b092",
   "metadata": {},
   "outputs": [],
   "source": []
  },
  {
   "cell_type": "code",
   "execution_count": null,
   "id": "2e5c5235-96ec-4c15-8424-acd5c2e359e0",
   "metadata": {},
   "outputs": [],
   "source": []
  }
 ],
 "metadata": {
  "kernelspec": {
   "display_name": "Python [conda env:py38ontotrans]",
   "language": "python",
   "name": "conda-env-py38ontotrans-py"
  },
  "language_info": {
   "codemirror_mode": {
    "name": "ipython",
    "version": 3
   },
   "file_extension": ".py",
   "mimetype": "text/x-python",
   "name": "python",
   "nbconvert_exporter": "python",
   "pygments_lexer": "ipython3",
   "version": "3.8.12"
  }
 },
 "nbformat": 4,
 "nbformat_minor": 5
}
