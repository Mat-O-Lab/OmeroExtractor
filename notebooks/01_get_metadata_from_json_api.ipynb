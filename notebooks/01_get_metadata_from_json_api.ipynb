{
 "cells": [
  {
   "cell_type": "markdown",
   "id": "6f45cdf6-a1a6-4caf-bead-5bb51646de1f",
   "metadata": {},
   "source": [
    "# Get metadata from OMERO via JSON API\n",
    "- Documentation https://docs.openmicroscopy.org/omero/5.6.0/developers/json-api.html "
   ]
  },
  {
   "cell_type": "code",
   "execution_count": null,
   "id": "8e1d53af-5f7b-4cd0-ba04-c970a99e50b5",
   "metadata": {},
   "outputs": [],
   "source": [
    "import os\n",
    "import json\n",
    "import requests\n",
    "from getpass import getpass"
   ]
  },
  {
   "cell_type": "code",
   "execution_count": null,
   "id": "f815bb6b-fcb1-48fb-8741-1bbb2fb487ff",
   "metadata": {},
   "outputs": [],
   "source": [
    "thisdir = os.path.abspath('')\n",
    "interim_data = os.path.join(thisdir, '..\\\\data\\\\interim')"
   ]
  },
  {
   "cell_type": "markdown",
   "id": "7689cfe0-3b0d-412d-a3fd-64c51bb0f7f4",
   "metadata": {},
   "source": [
    "#### Set the server and the credentials"
   ]
  },
  {
   "cell_type": "code",
   "execution_count": null,
   "id": "aec854a3-7230-44ff-a1aa-cf9637610809",
   "metadata": {},
   "outputs": [],
   "source": [
    "server = \"\"\n",
    "username = \"\"\n",
    "password = \"\""
   ]
  },
  {
   "cell_type": "markdown",
   "id": "fdd772de-e6dc-4a3b-bdee-c07649c960a1",
   "metadata": {},
   "source": [
    "#### Create a session"
   ]
  },
  {
   "cell_type": "code",
   "execution_count": null,
   "id": "9abe90ed-75ed-45c7-a053-1f6a2af523e0",
   "metadata": {},
   "outputs": [],
   "source": [
    "session = requests.Session()"
   ]
  },
  {
   "cell_type": "markdown",
   "id": "9712b39d-f431-4be8-a783-6a515a642480",
   "metadata": {},
   "source": [
    "#### Get the supported APIs as well as the connected base URLs"
   ]
  },
  {
   "cell_type": "code",
   "execution_count": null,
   "id": "1be24ab2-28ae-4c38-8381-d222a9e8f852",
   "metadata": {},
   "outputs": [],
   "source": [
    "r = session.get(\"http://\" + server + \"/api/\").json()\n",
    "r"
   ]
  },
  {
   "cell_type": "markdown",
   "id": "69dea524-14f9-4da1-90aa-32a34922515f",
   "metadata": {},
   "source": [
    "#### We want the latest API's base url for working with the images\n",
    "\n",
    "NOTE: '-1' is the latest api tuple in the returned json output. Read out the base url for further processing"
   ]
  },
  {
   "cell_type": "code",
   "execution_count": null,
   "id": "ba77e4d0-0a6b-4df9-97da-5b234ee4bb11",
   "metadata": {},
   "outputs": [],
   "source": [
    "base_url = r[\"data\"][-1][\"url:base\"]\n",
    "base_url"
   ]
  },
  {
   "cell_type": "markdown",
   "id": "9c017595-b234-4676-b1c9-01ebdae32276",
   "metadata": {},
   "source": [
    "#### Now get all URLs the server supports. We will pick the ones we need from the output."
   ]
  },
  {
   "cell_type": "code",
   "execution_count": null,
   "id": "05dd6b8e-4d40-4a3c-a036-bd827be4d67d",
   "metadata": {},
   "outputs": [],
   "source": [
    "all_urls = session.get(base_url).json()\n",
    "all_urls"
   ]
  },
  {
   "cell_type": "markdown",
   "id": "799ac6c8-ddea-4435-803c-4afde1bc79e3",
   "metadata": {},
   "source": [
    "#### Get the token for login"
   ]
  },
  {
   "cell_type": "code",
   "execution_count": null,
   "id": "0bcb6e6b-e2c9-44c8-9815-053240c2760f",
   "metadata": {},
   "outputs": [],
   "source": [
    "token_url = all_urls[\"url:token\"]\n",
    "token = session.get(token_url).json()[\"data\"]\n",
    "token"
   ]
  },
  {
   "cell_type": "markdown",
   "id": "9d075d3d-1481-4541-98dd-d9870beac9d7",
   "metadata": {},
   "source": [
    "#### Get the login URL"
   ]
  },
  {
   "cell_type": "code",
   "execution_count": null,
   "id": "c33f0748-c5a1-4483-aaf1-b1b84e455fbd",
   "metadata": {},
   "outputs": [],
   "source": [
    "login_url = all_urls[\"url:login\"]\n",
    "login_url"
   ]
  },
  {
   "cell_type": "markdown",
   "id": "75560424-5880-4ec6-b4c8-22cfd5f37132",
   "metadata": {},
   "source": [
    "#### List of servers"
   ]
  },
  {
   "cell_type": "code",
   "execution_count": null,
   "id": "93db525f-9f8a-41db-b4a9-bb42311c330f",
   "metadata": {},
   "outputs": [],
   "source": [
    "servers_url = all_urls[\"url:servers\"]\n",
    "servers = session.get(servers_url).json()[\"data\"]\n",
    "servers"
   ]
  },
  {
   "cell_type": "markdown",
   "id": "ab08a7dc-e825-41fd-877a-fdc61febc98d",
   "metadata": {},
   "source": [
    "#### Assume that there is only one server for now."
   ]
  },
  {
   "cell_type": "code",
   "execution_count": null,
   "id": "dac8668e-644a-4348-966c-c85ca2a07966",
   "metadata": {},
   "outputs": [],
   "source": [
    "server = servers[0]"
   ]
  },
  {
   "cell_type": "markdown",
   "id": "0a482c23-fe8b-413c-a198-64a03f9ddd03",
   "metadata": {},
   "source": [
    "#### Credentials for the login"
   ]
  },
  {
   "cell_type": "code",
   "execution_count": null,
   "id": "a1e24951-091e-463f-b57b-dbe50dd72757",
   "metadata": {},
   "outputs": [],
   "source": [
    "credentials = {\"username\": username,\n",
    "               \"password\": password,\n",
    "               \"csrfmiddlewaretoken\": token,\n",
    "               \"server\": server[\"id\"]}\n",
    "credentials"
   ]
  },
  {
   "cell_type": "markdown",
   "id": "e3cce4fd-ef85-4efc-91da-1407e1cce431",
   "metadata": {},
   "source": [
    "#### Log in to the server and check if we succeeded"
   ]
  },
  {
   "cell_type": "code",
   "execution_count": null,
   "id": "0b61b2f8-10cf-4849-b75b-1906fdfe06d2",
   "metadata": {},
   "outputs": [],
   "source": [
    "return_value = session.post(login_url, data=credentials)\n",
    "response = return_value.json()\n",
    "\n",
    "assert return_value.status_code == 200\n",
    "assert response[\"success\"]"
   ]
  },
  {
   "cell_type": "markdown",
   "id": "7b62d60f-0c11-4e48-b1a9-3e5e586f42b5",
   "metadata": {},
   "source": [
    "#### Get the list of projects we have access to"
   ]
  },
  {
   "cell_type": "code",
   "execution_count": null,
   "id": "beab1d66-4ff5-4673-909a-2ee4a949eb4c",
   "metadata": {
    "tags": []
   },
   "outputs": [],
   "source": [
    "projects_url = all_urls[\"url:projects\"]\n",
    "projects = session.get(projects_url).json()\n",
    "projects"
   ]
  },
  {
   "cell_type": "markdown",
   "id": "c1c2dfe6-f549-4714-834f-9ee78f929ab2",
   "metadata": {},
   "source": [
    "### Now get all available images "
   ]
  },
  {
   "cell_type": "code",
   "execution_count": null,
   "id": "d2cf9415-577b-445e-9065-5c7005efaa88",
   "metadata": {},
   "outputs": [],
   "source": [
    "# get image URL\n",
    "images_url = all_urls[\"url:images\"]\n",
    "images_url"
   ]
  },
  {
   "cell_type": "code",
   "execution_count": null,
   "id": "ee8c2910-07e3-483c-a34d-50c771788b95",
   "metadata": {
    "tags": []
   },
   "outputs": [],
   "source": [
    "# get image data\n",
    "images = session.get(images_url).json()"
   ]
  },
  {
   "cell_type": "code",
   "execution_count": null,
   "id": "351ff10c-f65c-4e3c-b592-f08383903b54",
   "metadata": {},
   "outputs": [],
   "source": [
    "# get json data\n",
    "for i in images[\"data\"]:\n",
    "            image_url = i[\"url:image\"]\n",
    "            print(image_url)\n",
    "            json_data = session.get(image_url).json()\n",
    "            json_data.update({\"ImageUrl\": image_url})\n",
    "            #f = open(json_data[\"data\"][\"Name\"]+\".json\", \"w\")\n",
    "            f = open(os.path.join(interim_data, json_data[\"data\"][\"Name\"]+\".json\"), \"w\")\n",
    "            f.write(json.dumps(json_data, indent=4, sort_keys=True))\n",
    "            f.close()"
   ]
  },
  {
   "cell_type": "markdown",
   "id": "978588d0-0d88-42c4-b0c8-7759efe638ed",
   "metadata": {},
   "source": [
    "#### Same as above but with loop over projects"
   ]
  },
  {
   "cell_type": "code",
   "execution_count": null,
   "id": "d36ba2e3-1368-4d42-b2ba-f3da920cbf55",
   "metadata": {},
   "outputs": [],
   "source": [
    "for p in projects[\"data\"]:\n",
    "    # Get the URL for the datasets of the project\n",
    "    project_url = projects_url + str(p[\"@id\"]) + \"/\"\n",
    "    print(project_url)\n",
    "    project = session.get(project_url).json()\n",
    "    project_datasets_url = project[\"data\"][\"url:datasets\"]\n",
    "    print(project_datasets_url)\n",
    "    # Get the datasets from the respective project\n",
    "    project_datasets = session.get(project_datasets_url).json()\n",
    "    # Get the images from the datasets\n",
    "    for d in project_datasets[\"data\"]:\n",
    "        project_images_url = d[\"url:images\"]\n",
    "        print(project_images_url)\n",
    "        project_images = session.get(project_images_url).json()\n",
    "        # Write the metadata of each image into a json file\n",
    "        for i in project_images[\"data\"]:\n",
    "            image_url = i[\"url:image\"]\n",
    "            print(image_url)\n",
    "            json_data = session.get(image_url).json()\n",
    "            #json_data.update({\"ImageUrl\": image_url})\n",
    "            f = open(json_data[\"data\"][\"Name\"]+\".json\", \"w\")\n",
    "            f.write(json.dumps(json_data, indent=4, sort_keys=True))\n",
    "            f.close()"
   ]
  },
  {
   "cell_type": "code",
   "execution_count": null,
   "id": "651b0192-cc21-49be-98b1-e680497f4d64",
   "metadata": {},
   "outputs": [],
   "source": []
  },
  {
   "cell_type": "code",
   "execution_count": null,
   "id": "7e0f3953-3543-4cc0-9bf9-c03619c075da",
   "metadata": {},
   "outputs": [],
   "source": []
  },
  {
   "cell_type": "code",
   "execution_count": null,
   "id": "06da3a8e-a4fa-4164-a372-4e2017e9ec70",
   "metadata": {},
   "outputs": [],
   "source": []
  },
  {
   "cell_type": "code",
   "execution_count": null,
   "id": "549803c7-ed37-40f9-a91f-a5bc538231bc",
   "metadata": {},
   "outputs": [],
   "source": []
  },
  {
   "cell_type": "code",
   "execution_count": null,
   "id": "fe5f47f5-4f91-4b57-879e-152d56270b59",
   "metadata": {},
   "outputs": [],
   "source": []
  },
  {
   "cell_type": "code",
   "execution_count": null,
   "id": "8478221b-4081-4126-a121-572c78ab3b61",
   "metadata": {},
   "outputs": [],
   "source": []
  },
  {
   "cell_type": "code",
   "execution_count": null,
   "id": "72102532-0795-4514-bb6e-908d7de4c599",
   "metadata": {},
   "outputs": [],
   "source": []
  },
  {
   "cell_type": "code",
   "execution_count": null,
   "id": "0b62bebf-1710-4088-84ea-d0d50fc8d542",
   "metadata": {},
   "outputs": [],
   "source": []
  },
  {
   "cell_type": "code",
   "execution_count": null,
   "id": "79927b78-4c5a-4df6-8019-1fe42f27db8b",
   "metadata": {},
   "outputs": [],
   "source": []
  }
 ],
 "metadata": {
  "kernelspec": {
   "display_name": "Python [conda env:py38ontotrans]",
   "language": "python",
   "name": "conda-env-py38ontotrans-py"
  },
  "language_info": {
   "codemirror_mode": {
    "name": "ipython",
    "version": 3
   },
   "file_extension": ".py",
   "mimetype": "text/x-python",
   "name": "python",
   "nbconvert_exporter": "python",
   "pygments_lexer": "ipython3",
   "version": "3.8.12"
  }
 },
 "nbformat": 4,
 "nbformat_minor": 5
}
