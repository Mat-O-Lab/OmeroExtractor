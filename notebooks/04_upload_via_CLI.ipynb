{
 "cells": [
  {
   "cell_type": "markdown",
   "id": "6f45cdf6-a1a6-4caf-bead-5bb51646de1f",
   "metadata": {},
   "source": [
    "## Import picture(s) to OMERO server\n",
    "- also see https://gitlab.com/openmicroscopy/incubator/omero-python-importer/-/blob/master/import.py"
   ]
  },
  {
   "cell_type": "code",
   "execution_count": null,
   "id": "8e1d53af-5f7b-4cd0-ba04-c970a99e50b5",
   "metadata": {},
   "outputs": [],
   "source": [
    "import os\n",
    "import json\n",
    "import omero\n",
    "import omero.clients\n",
    "from omero.gateway import BlitzGateway\n",
    "from omero.rtypes import rstring, rbool\n",
    "from omero.model import ChecksumAlgorithmI\n",
    "from omero.model.enums import ChecksumAlgorithmSHA1160\n",
    "from omero.callbacks import CmdCallbackI"
   ]
  },
  {
   "cell_type": "markdown",
   "id": "7689cfe0-3b0d-412d-a3fd-64c51bb0f7f4",
   "metadata": {},
   "source": [
    "#### Server, Cedentials and Co"
   ]
  },
  {
   "cell_type": "code",
   "execution_count": null,
   "id": "9e0ef6b1-8058-4c51-8115-8df3bbe975bc",
   "metadata": {},
   "outputs": [],
   "source": [
    "server = \" \"\n",
    "my_port = \"4064\"\n",
    "username = \" \"\n",
    "password = \" \""
   ]
  },
  {
   "cell_type": "markdown",
   "id": "a3d4d87d-b14c-4717-8cad-ba4d0b232682",
   "metadata": {},
   "source": [
    "#### Files & Dataset ID"
   ]
  },
  {
   "cell_type": "code",
   "execution_count": null,
   "id": "34936bc7-787f-4019-8328-7f846f0ce7a4",
   "metadata": {},
   "outputs": [],
   "source": [
    "dataset_id = 8\n",
    "files = [\"too_1.png\"]\n",
    "files"
   ]
  },
  {
   "cell_type": "markdown",
   "id": "f8875eda-b24b-4dce-ab0a-271ccde9cca1",
   "metadata": {},
   "source": [
    "### Set Up Connection"
   ]
  },
  {
   "cell_type": "markdown",
   "id": "3c002958-cc63-432e-b052-cca2523c04a1",
   "metadata": {},
   "source": [
    "- create client"
   ]
  },
  {
   "cell_type": "code",
   "execution_count": null,
   "id": "d6f78597-6b14-44aa-8f41-509641cc8787",
   "metadata": {},
   "outputs": [],
   "source": [
    "c = omero.client(server)"
   ]
  },
  {
   "cell_type": "markdown",
   "id": "75c1436d-d160-48f5-8575-bd21e78759e5",
   "metadata": {},
   "source": [
    "- create Session"
   ]
  },
  {
   "cell_type": "code",
   "execution_count": null,
   "id": "33872b27-82b2-489e-a83e-32ccbb3340f8",
   "metadata": {},
   "outputs": [],
   "source": [
    "c.createSession(username, password)"
   ]
  },
  {
   "cell_type": "markdown",
   "id": "0bc74eda-e919-48c7-8217-622b448dd8e4",
   "metadata": {},
   "source": [
    "- set up connection"
   ]
  },
  {
   "cell_type": "code",
   "execution_count": null,
   "id": "57433cb0-591d-4d8e-b454-fa985b7cb58b",
   "metadata": {},
   "outputs": [],
   "source": [
    "conn = BlitzGateway(client_obj=c)"
   ]
  },
  {
   "cell_type": "markdown",
   "id": "f85b5e7e-3532-4062-a6aa-132be39938aa",
   "metadata": {},
   "source": [
    "- test conncetion"
   ]
  },
  {
   "cell_type": "code",
   "execution_count": null,
   "id": "abf5246a-29d2-4c7f-9c64-480e2e0d7063",
   "metadata": {},
   "outputs": [],
   "source": [
    "user = conn.getUser()\n",
    "print(\"Current user:\")\n",
    "print(\"   ID:\", user.getId())\n",
    "print(\"   Username:\", user.getName())\n",
    "print(\"   Full Name:\", user.getFullName())"
   ]
  },
  {
   "cell_type": "markdown",
   "id": "27dbbab6-c709-4107-a403-067a941348fd",
   "metadata": {},
   "source": [
    "### Create Fileset"
   ]
  },
  {
   "cell_type": "code",
   "execution_count": null,
   "id": "3e97467f-4701-4a36-84f0-fa1b08a21d6f",
   "metadata": {
    "jupyter": {
     "outputs_hidden": true
    },
    "tags": []
   },
   "outputs": [],
   "source": [
    "fileset = omero.model.FilesetI()\n",
    "for f in files:\n",
    "    entry = omero.model.FilesetEntryI()\n",
    "    entry.setClientPath(rstring(f))\n",
    "    fileset.addFilesetEntry(entry)\n",
    "upload = omero.model.UploadJobI()\n",
    "fileset.linkJob(upload)"
   ]
  },
  {
   "cell_type": "markdown",
   "id": "ed33f2d6-c254-4c6f-b3ce-219cadf81663",
   "metadata": {},
   "source": [
    "### Create Settings"
   ]
  },
  {
   "cell_type": "code",
   "execution_count": null,
   "id": "03fa84d6-7321-4ec3-9f9b-b1df26dd9ecb",
   "metadata": {},
   "outputs": [],
   "source": [
    "settings = omero.grid.ImportSettings()\n",
    "settings.doThumbnails = rbool(True)\n",
    "settings.noStatsInfo = rbool(False)\n",
    "settings.userSpecifiedTarget = None\n",
    "settings.userSpecifiedName = None\n",
    "settings.userSpecifiedDescription = None\n",
    "settings.userSpecifiedAnnotationList = None\n",
    "settings.userSpecifiedPixels = None\n",
    "settings.checksumAlgorithm = ChecksumAlgorithmI()\n",
    "s = rstring(ChecksumAlgorithmSHA1160)\n",
    "settings.checksumAlgorithm.value = s"
   ]
  },
  {
   "cell_type": "markdown",
   "id": "a0e5a958-dc74-4a07-85ea-2dba73a1a677",
   "metadata": {},
   "source": [
    "### Import"
   ]
  },
  {
   "cell_type": "markdown",
   "id": "dcbb74a2-3d43-4bf6-aac7-b88cfba4e73f",
   "metadata": {},
   "source": [
    "- set Managed Repository"
   ]
  },
  {
   "cell_type": "code",
   "execution_count": null,
   "id": "1a56dbd4-b48f-4739-a967-a9a6675c7d31",
   "metadata": {},
   "outputs": [],
   "source": [
    "mrepo = c.getManagedRepository()"
   ]
  },
  {
   "cell_type": "markdown",
   "id": "7e716c43-6d6c-4325-86da-abef4d57fbdd",
   "metadata": {},
   "source": [
    "- Start Import"
   ]
  },
  {
   "cell_type": "code",
   "execution_count": null,
   "id": "e9651259-52d3-432b-b604-27ba187cf25f",
   "metadata": {},
   "outputs": [],
   "source": [
    "proc = mrepo.importFileset(fileset, settings)"
   ]
  },
  {
   "cell_type": "markdown",
   "id": "5fbe1faf-abc0-4621-be5c-190dda7faf02",
   "metadata": {},
   "source": [
    "- Upload files to OMERO from local filesystem"
   ]
  },
  {
   "cell_type": "code",
   "execution_count": null,
   "id": "10de8083-cc63-43f7-929b-860487b250fe",
   "metadata": {},
   "outputs": [],
   "source": [
    "return_value = []\n",
    "for i, fobj in enumerate(files):\n",
    "    rfs = proc.getUploader(i)\n",
    "    with open(fobj, 'rb') as f:\n",
    "        print ('Uploading: : %s' % fobj)\n",
    "        offset = 0\n",
    "        block = []\n",
    "        rfs.write(block, offset, len(block))  # Touch\n",
    "        while True:\n",
    "            block = f.read(1000 * 1000)\n",
    "            if not block:\n",
    "                break\n",
    "            rfs.write(block, offset, len(block))\n",
    "            offset += len(block)\n",
    "        return_value.append(c.sha1(fobj))"
   ]
  },
  {
   "cell_type": "code",
   "execution_count": null,
   "id": "9e8a7d31-62ed-4fb2-9759-f93de58fb6e0",
   "metadata": {},
   "outputs": [],
   "source": [
    "rfs.close()"
   ]
  },
  {
   "cell_type": "code",
   "execution_count": null,
   "id": "16291c80-44d7-4ef3-a03d-002b72a8bffc",
   "metadata": {},
   "outputs": [],
   "source": [
    "print ('Hashes:\\n  %s' % '\\n  '.join(return_value))"
   ]
  },
  {
   "cell_type": "markdown",
   "id": "60841ba5-4af2-441f-b508-de2f5acae7b5",
   "metadata": {},
   "source": [
    "- Check upload (--> now image is visible under orphaned images)"
   ]
  },
  {
   "cell_type": "code",
   "execution_count": null,
   "id": "aa2965df-77a7-4162-8e2a-ba94bd6b6e9e",
   "metadata": {},
   "outputs": [],
   "source": [
    "return_value[0]"
   ]
  },
  {
   "cell_type": "code",
   "execution_count": null,
   "id": "b400edfa-2a42-4eac-bd41-43275d13d5f3",
   "metadata": {},
   "outputs": [],
   "source": [
    "proc.verifyUpload(return_value)"
   ]
  },
  {
   "cell_type": "code",
   "execution_count": null,
   "id": "3c6f6ea2-998a-4ce5-9fe7-f9844a028bcb",
   "metadata": {},
   "outputs": [],
   "source": [
    "handle = proc.verifyUpload(return_value)"
   ]
  },
  {
   "cell_type": "code",
   "execution_count": null,
   "id": "5c0c8edc-c69a-4a91-bab5-65deb1df3d95",
   "metadata": {},
   "outputs": [],
   "source": [
    "callback = CmdCallbackI(c, handle)"
   ]
  },
  {
   "cell_type": "code",
   "execution_count": null,
   "id": "b441a79f-1d4a-4f1f-b9ad-29aef69f8218",
   "metadata": {},
   "outputs": [],
   "source": [
    "response = callback.getResponse()"
   ]
  },
  {
   "cell_type": "markdown",
   "id": "90559011-4fe7-4482-9f82-0474cedaeb9f",
   "metadata": {},
   "source": [
    "- Close process to import fileset"
   ]
  },
  {
   "cell_type": "code",
   "execution_count": null,
   "id": "390c8673-d6f5-46b8-9fa1-793aefb8ad37",
   "metadata": {},
   "outputs": [],
   "source": [
    "proc.close()"
   ]
  },
  {
   "cell_type": "markdown",
   "id": "55ae6a2b-983a-433f-943e-56c16bc19e85",
   "metadata": {},
   "source": [
    "- Link image to dataset"
   ]
  },
  {
   "cell_type": "code",
   "execution_count": null,
   "id": "38a5fc3e-07f5-4e42-bac4-fa46adfa20a1",
   "metadata": {},
   "outputs": [],
   "source": [
    "links = []\n",
    "for p in response.pixels:\n",
    "    print ('Imported Image ID: %d' % p.image.id.val)\n",
    "    link = omero.model.DatasetImageLinkI()\n",
    "    link.parent = omero.model.DatasetI(dataset_id, False)\n",
    "    link.child = omero.model.ImageI(p.image.id.val, False)\n",
    "    links.append(link)"
   ]
  },
  {
   "cell_type": "code",
   "execution_count": null,
   "id": "52b3780c-976e-47f1-8602-c7944a967769",
   "metadata": {},
   "outputs": [],
   "source": [
    "conn.getUpdateService().saveArray(links, conn.SERVICE_OPTS)"
   ]
  },
  {
   "cell_type": "markdown",
   "id": "8e24c743-5357-4283-8fc1-cbc04b8693f0",
   "metadata": {},
   "source": [
    "### Close Connection"
   ]
  },
  {
   "cell_type": "code",
   "execution_count": null,
   "id": "e6dc118d-98b7-4100-ba5b-f6b5da6a041b",
   "metadata": {},
   "outputs": [],
   "source": [
    "conn.close()"
   ]
  },
  {
   "cell_type": "code",
   "execution_count": null,
   "id": "3de4db83-7564-4f34-995b-652e9b1f33ac",
   "metadata": {},
   "outputs": [],
   "source": [
    "c.closeSession()"
   ]
  },
  {
   "cell_type": "code",
   "execution_count": null,
   "id": "f98015b0-b5da-4245-82e5-6ed8fc8de219",
   "metadata": {},
   "outputs": [],
   "source": []
  },
  {
   "cell_type": "code",
   "execution_count": null,
   "id": "0ec96629-e14d-4eaf-a997-66f5c1b21c6d",
   "metadata": {},
   "outputs": [],
   "source": []
  },
  {
   "cell_type": "code",
   "execution_count": null,
   "id": "8e3a0a7d-3945-4f96-8b62-33cae25c3c45",
   "metadata": {},
   "outputs": [],
   "source": []
  },
  {
   "cell_type": "code",
   "execution_count": null,
   "id": "264a330e-5398-4813-bf28-5c86a7b8cf60",
   "metadata": {},
   "outputs": [],
   "source": []
  },
  {
   "cell_type": "code",
   "execution_count": null,
   "id": "04ac0fa5-90f3-40fe-baf7-74adf8d5fa76",
   "metadata": {},
   "outputs": [],
   "source": []
  },
  {
   "cell_type": "code",
   "execution_count": null,
   "id": "2e08c994-77d7-47a1-8aa3-6ec8961c1bd1",
   "metadata": {},
   "outputs": [],
   "source": [
    "ret_val = []\n",
    "for i, fobj in enumerate(files):\n",
    "    rfs = proc.getUploader(i)\n",
    "    with open(fobj, 'rb') as f:\n",
    "        print ('Uploading: : %s' % fobj)\n",
    "        offset = 0\n",
    "        block = []\n",
    "        rfs.write(block, offset, len(block))  # Touch\n",
    "        while True:\n",
    "            block = f.read(1000 * 1000)\n",
    "            if not block:\n",
    "                break\n",
    "            rfs.write(block, offset, len(block))\n",
    "            offset += len(block)\n",
    "        ret_val.append(c.sha1(fobj))"
   ]
  },
  {
   "cell_type": "code",
   "execution_count": null,
   "id": "b14eb435-7496-4861-bf1a-9452bfc1d6f5",
   "metadata": {},
   "outputs": [],
   "source": [
    "rfs.close()"
   ]
  },
  {
   "cell_type": "code",
   "execution_count": null,
   "id": "fcd7d75c-2ae9-47d3-b861-d4684f2b1860",
   "metadata": {},
   "outputs": [],
   "source": [
    "ret_val"
   ]
  },
  {
   "cell_type": "code",
   "execution_count": null,
   "id": "7df8e648-655e-4983-9332-099f6888f23a",
   "metadata": {},
   "outputs": [],
   "source": [
    "handle = proc.verifyUpload(ret_val)\n",
    "handle"
   ]
  },
  {
   "cell_type": "code",
   "execution_count": null,
   "id": "b6ab355b-7b3d-4e9f-b38c-aef0486e0650",
   "metadata": {},
   "outputs": [],
   "source": [
    "cb = CmdCallbackI(c, handle)\n",
    "cb"
   ]
  },
  {
   "cell_type": "code",
   "execution_count": null,
   "id": "392d28a0-46b0-4428-b4fd-d8489772298e",
   "metadata": {
    "tags": []
   },
   "outputs": [],
   "source": [
    "rsp_2 = cb.getResponse()"
   ]
  },
  {
   "cell_type": "code",
   "execution_count": null,
   "id": "535ff2ce-3d96-4a62-80c3-d2b41aa1db86",
   "metadata": {},
   "outputs": [],
   "source": [
    "dataset_id = 6\n",
    "links = []\n",
    "for p in rsp_2.pixels:\n",
    "    print ('Imported Image ID: %d' % p.image.id.val)\n",
    "    link = omero.model.DatasetImageLinkI()\n",
    "    link.parent = omero.model.DatasetI(dataset_id, False)\n",
    "    link.child = omero.model.ImageI(p.image.id.val, False)\n",
    "    links.append(link)\n"
   ]
  },
  {
   "cell_type": "code",
   "execution_count": null,
   "id": "1353d987-a491-4ef6-a8df-53376e39cf3f",
   "metadata": {},
   "outputs": [],
   "source": [
    "conn.getUpdateService().saveArray(links, conn.SERVICE_OPTS)"
   ]
  },
  {
   "cell_type": "code",
   "execution_count": null,
   "id": "dd4be2d1-e330-45df-9255-f179251511eb",
   "metadata": {},
   "outputs": [],
   "source": []
  },
  {
   "cell_type": "code",
   "execution_count": null,
   "id": "edc1ea6a-34ee-4d49-af40-7bf91421aa91",
   "metadata": {},
   "outputs": [],
   "source": []
  },
  {
   "cell_type": "code",
   "execution_count": null,
   "id": "cfa9ffa7-19c9-41b6-bfd8-573c245b4ffe",
   "metadata": {},
   "outputs": [],
   "source": []
  },
  {
   "cell_type": "code",
   "execution_count": null,
   "id": "9210d86d-239a-4142-ab69-919d3c2a16a8",
   "metadata": {},
   "outputs": [],
   "source": []
  },
  {
   "cell_type": "markdown",
   "id": "181c4ad3-2f68-48aa-9d96-5ca2aaed9b9b",
   "metadata": {},
   "source": [
    "#### close connection"
   ]
  },
  {
   "cell_type": "code",
   "execution_count": null,
   "id": "458afbde-f0ae-464b-b6c6-f41008678471",
   "metadata": {},
   "outputs": [],
   "source": [
    "conn.close()"
   ]
  },
  {
   "cell_type": "code",
   "execution_count": null,
   "id": "ac93b3f7-9f5a-4b6a-aa12-2daa8b43b092",
   "metadata": {},
   "outputs": [],
   "source": [
    "c.closeSession()"
   ]
  },
  {
   "cell_type": "code",
   "execution_count": null,
   "id": "4f853df4-9faf-4f37-b0b3-591497293724",
   "metadata": {},
   "outputs": [],
   "source": []
  },
  {
   "cell_type": "code",
   "execution_count": null,
   "id": "5857667a-ffce-4fe2-a17c-142d6b8e1ae9",
   "metadata": {},
   "outputs": [],
   "source": []
  },
  {
   "cell_type": "code",
   "execution_count": null,
   "id": "552b592a-89c1-4ba9-be0b-056ffe637d25",
   "metadata": {},
   "outputs": [],
   "source": []
  },
  {
   "cell_type": "code",
   "execution_count": null,
   "id": "050edeea-1351-468d-af57-a171472d9b69",
   "metadata": {},
   "outputs": [],
   "source": [
    "def startUpload(self, files):\n",
    "     mrepo = self.client.getManagedRepository()\n",
    "     fs = FilesetI()\n",
    "     fs.linkJob(UploadJobI())\n",
    "     for file in files:\n",
    "         entry = FilesetEntryI()\n",
    "         entry.clientPath = rstring(\"%s/%s\" % (\n",
    "             file.path.val, file.name.val\n",
    "         ))\n",
    "         fs.addFilesetEntry(entry)\n",
    "     settings = ImportSettings()\n",
    "     settings.checksumAlgorithm = ChecksumAlgorithmI()\n",
    "     settings.checksumAlgorithm.value = rstring(\"SHA1-160\")\n",
    "     return mrepo.importFileset(fs, settings)"
   ]
  },
  {
   "cell_type": "code",
   "execution_count": null,
   "id": "ee86d57a-8af3-49e2-a5cc-8088b2a002c2",
   "metadata": {},
   "outputs": [],
   "source": []
  }
 ],
 "metadata": {
  "kernelspec": {
   "display_name": "Python [conda env:py38ontotrans]",
   "language": "python",
   "name": "conda-env-py38ontotrans-py"
  },
  "language_info": {
   "codemirror_mode": {
    "name": "ipython",
    "version": 3
   },
   "file_extension": ".py",
   "mimetype": "text/x-python",
   "name": "python",
   "nbconvert_exporter": "python",
   "pygments_lexer": "ipython3",
   "version": "3.8.12"
  }
 },
 "nbformat": 4,
 "nbformat_minor": 5
}
